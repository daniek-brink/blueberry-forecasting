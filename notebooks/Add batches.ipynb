{
 "cells": [
  {
   "cell_type": "code",
   "execution_count": 1,
   "metadata": {},
   "outputs": [
    {
     "name": "stderr",
     "output_type": "stream",
     "text": [
      "/Users/daniekbrink/opt/anaconda3/envs/testenv/lib/python3.6/site-packages/tensorflow/python/framework/dtypes.py:517: FutureWarning: Passing (type, 1) or '1type' as a synonym of type is deprecated; in a future version of numpy, it will be understood as (type, (1,)) / '(1,)type'.\n",
      "  _np_qint8 = np.dtype([(\"qint8\", np.int8, 1)])\n",
      "/Users/daniekbrink/opt/anaconda3/envs/testenv/lib/python3.6/site-packages/tensorflow/python/framework/dtypes.py:518: FutureWarning: Passing (type, 1) or '1type' as a synonym of type is deprecated; in a future version of numpy, it will be understood as (type, (1,)) / '(1,)type'.\n",
      "  _np_quint8 = np.dtype([(\"quint8\", np.uint8, 1)])\n",
      "/Users/daniekbrink/opt/anaconda3/envs/testenv/lib/python3.6/site-packages/tensorflow/python/framework/dtypes.py:519: FutureWarning: Passing (type, 1) or '1type' as a synonym of type is deprecated; in a future version of numpy, it will be understood as (type, (1,)) / '(1,)type'.\n",
      "  _np_qint16 = np.dtype([(\"qint16\", np.int16, 1)])\n",
      "/Users/daniekbrink/opt/anaconda3/envs/testenv/lib/python3.6/site-packages/tensorflow/python/framework/dtypes.py:520: FutureWarning: Passing (type, 1) or '1type' as a synonym of type is deprecated; in a future version of numpy, it will be understood as (type, (1,)) / '(1,)type'.\n",
      "  _np_quint16 = np.dtype([(\"quint16\", np.uint16, 1)])\n",
      "/Users/daniekbrink/opt/anaconda3/envs/testenv/lib/python3.6/site-packages/tensorflow/python/framework/dtypes.py:521: FutureWarning: Passing (type, 1) or '1type' as a synonym of type is deprecated; in a future version of numpy, it will be understood as (type, (1,)) / '(1,)type'.\n",
      "  _np_qint32 = np.dtype([(\"qint32\", np.int32, 1)])\n",
      "/Users/daniekbrink/opt/anaconda3/envs/testenv/lib/python3.6/site-packages/tensorflow/python/framework/dtypes.py:526: FutureWarning: Passing (type, 1) or '1type' as a synonym of type is deprecated; in a future version of numpy, it will be understood as (type, (1,)) / '(1,)type'.\n",
      "  np_resource = np.dtype([(\"resource\", np.ubyte, 1)])\n"
     ]
    }
   ],
   "source": [
    "import edward as ed\n",
    "import tensorflow as tf\n",
    "from edward.models import Normal, Binomial, Multinomial\n",
    "import numpy as np"
   ]
  },
  {
   "cell_type": "code",
   "execution_count": 2,
   "metadata": {},
   "outputs": [],
   "source": [
    "def generator(arrays, batch_size):\n",
    "    \"\"\"Generate batches, one with respect to each array's first axis.\"\"\"\n",
    "    starts = [0] * len(arrays)  # pointers to where we are in iteration\n",
    "    while True:\n",
    "        batches = []\n",
    "        for i, array in enumerate(arrays):\n",
    "            start = starts[i]\n",
    "            stop = start + batch_size\n",
    "            diff = stop - array.shape[0]\n",
    "            if diff <= 0:\n",
    "                batch = array[start:stop]\n",
    "                starts[i] += batch_size\n",
    "            else:\n",
    "                batch = np.concatenate((array[start:], array[:diff]))\n",
    "                starts[i] = diff\n",
    "            batches.append(batch)\n",
    "        yield batches\n"
   ]
  },
  {
   "cell_type": "code",
   "execution_count": 3,
   "metadata": {},
   "outputs": [
    {
     "name": "stdout",
     "output_type": "stream",
     "text": [
      "[11.032847]\n",
      "[8.527079]\n",
      "[9.784733]\n",
      "[5.20264]\n",
      "[1.9581648]\n",
      "[0.7855418]\n",
      "[1.7039595]\n",
      "[2.6208446]\n",
      "[2.3175178]\n",
      "[1.9690039]\n"
     ]
    }
   ],
   "source": [
    "N = 10\n",
    "max_berries = 20\n",
    "X = tf.placeholder(tf.float32, [1])\n",
    "mu_w = Normal(loc=tf.ones(1)*0.02, scale=tf.ones(1))\n",
    "sig_w = Normal(loc=tf.ones(1)*0.5, scale=tf.ones(1))\n",
    "\n",
    "Y = Multinomial(total_count=tf.ones(1)*X, probs=[0.3, 0.7])\n",
    "W = Normal(loc=mu_w, scale=sig_w)\n",
    "Xt = Normal(loc=X - Y[:,0] + W, scale=tf.ones(1)*5)\n",
    "\n",
    "yw = Multinomial(total_count=tf.get_variable(\"Y/total_count\", [1]),\n",
    "               probs=tf.get_variable(\"Y/probs\", [1, 2]))\n",
    "\n",
    "muw = Normal(loc=tf.get_variable(\"mu_w/loc\", [1]),\n",
    "            scale=tf.nn.softplus(tf.get_variable(\"mu_w/scale\", [1])))\n",
    "sigw = Normal(loc=tf.get_variable(\"sig_w/loc\", [1]),\n",
    "             scale=tf.nn.softplus(tf.get_variable(\"sig_w/scale\", [1])))\n",
    "\n",
    "X_train = [12, 10, 8, 6, 5, 4, 3, 3, 2, 1]\n",
    "y_train = [10, 8, 6, 5, 4, 3, 3, 2, 1, 0]\n",
    "\n",
    "M = 1\n",
    "data = generator([np.asarray(X_train), np.asarray(y_train)], M)\n",
    "\n",
    "n_batch = int(N / M)\n",
    "n_epoch = 5\n",
    "inference = ed.KLqp({mu_w: muw, sig_w:sigw}, data={})\n",
    "inference.initialize(\n",
    "    n_iter=n_batch * n_epoch, n_samples=5, scale={Xt: N / M})\n",
    "tf.global_variables_initializer().run()\n",
    "\n",
    "for _ in range(inference.n_iter):\n",
    "    X_batch, y_batch = next(data)\n",
    "    info_dict = inference.update({X: X_batch, Xt: y_batch})\n",
    "    inference.print_progress(info_dict)\n",
    "\n",
    "x_post = ed.copy(Xt, {mu_w: muw, sig_w:sigw})\n",
    "sess=ed.get_session()\n",
    "for i in range(0,N):\n",
    "    print(sess.run(x_post.mean(), feed_dict={X:[X_train[i]]}))"
   ]
  },
  {
   "cell_type": "code",
   "execution_count": 4,
   "metadata": {},
   "outputs": [
    {
     "data": {
      "text/plain": [
       "array([1])"
      ]
     },
     "execution_count": 4,
     "metadata": {},
     "output_type": "execute_result"
    }
   ],
   "source": [
    "X_batch"
   ]
  },
  {
   "cell_type": "code",
   "execution_count": 5,
   "metadata": {},
   "outputs": [
    {
     "data": {
      "text/plain": [
       "array([0])"
      ]
     },
     "execution_count": 5,
     "metadata": {},
     "output_type": "execute_result"
    }
   ],
   "source": [
    "y_batch"
   ]
  },
  {
   "cell_type": "code",
   "execution_count": null,
   "metadata": {},
   "outputs": [],
   "source": []
  }
 ],
 "metadata": {
  "kernelspec": {
   "display_name": "Python 3",
   "language": "python",
   "name": "python3"
  },
  "language_info": {
   "codemirror_mode": {
    "name": "ipython",
    "version": 3
   },
   "file_extension": ".py",
   "mimetype": "text/x-python",
   "name": "python",
   "nbconvert_exporter": "python",
   "pygments_lexer": "ipython3",
   "version": "3.6.10"
  }
 },
 "nbformat": 4,
 "nbformat_minor": 4
}
